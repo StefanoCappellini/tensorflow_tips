{
 "cells": [
  {
   "cell_type": "code",
   "execution_count": 1,
   "metadata": {},
   "outputs": [],
   "source": [
    "import tensorflow as tf"
   ]
  },
  {
   "cell_type": "markdown",
   "metadata": {},
   "source": [
    "# Variables sharing in TensorFlow: Variable vs get_variable\n",
    "\n",
    "What are the differences between the variables created through the `Variable` constructor and the ones created using the `get_variable` function? How does the variable sharing work in TensorFlow? These are the two questions that will be addressed in this Notebook.\n",
    "\n",
    "\n",
    "**Note**: This Notebook assumes some previous knowledge of TensorFlow. You can read about it on the <a href=\"https://www.tensorflow.org/api_docs/python/tf\" target=\"_blank\">official doc</a>. It also assumes some knowledge of TensorFlow scopes. You can read about them <a href=\"http://stefanocappellini.com/tf-name_scope-vs-variable_scope/\" target=\"_blank\">here</a>.\n",
    "\n",
    "**Note2**: this Notebook is associated with <a href=\"http://stefanocappellini.com/tf-variable-vs-get_variable-sharing/\" target=\"_blank\">this post</a>.\n",
    "\n",
    "© Stefano Cappellini"
   ]
  },
  {
   "cell_type": "markdown",
   "metadata": {},
   "source": [
    "## Fact 1: variables created using the `Variable` constructor CANNOT be shared. Every time you call this constructor, it will create a brand new variable (and this is exactly what you should expect from a constructor!)"
   ]
  },
  {
   "cell_type": "code",
   "execution_count": 7,
   "metadata": {},
   "outputs": [
    {
     "name": "stdout",
     "output_type": "stream",
     "text": [
      "first/x:0 first/x_1:0 False\n"
     ]
    }
   ],
   "source": [
    "def sharing_1():\n",
    "    tf.reset_default_graph()\n",
    "    with tf.name_scope(\"first\"):\n",
    "        x = tf.Variable(10, name=\"x\")\n",
    "    with tf.name_scope(\"first/\"): # note the trailing slash\n",
    "        x2 = tf.Variable(10, name=\"x\")\n",
    "    print(x.name, x2.name, x == x2)\n",
    "\n",
    "sharing_1()"
   ]
  },
  {
   "cell_type": "markdown",
   "metadata": {},
   "source": [
    "## Fact 2: variables created using the `Variable` constructor and the ones created using the `get_variable` are different beasts. Thus, you cannot reuse variables created using the constructor."
   ]
  },
  {
   "cell_type": "code",
   "execution_count": 13,
   "metadata": {},
   "outputs": [
    {
     "name": "stdout",
     "output_type": "stream",
     "text": [
      "first/x:0 first/x_1:0 first/x_2:0 first/x_1:0\n",
      "True\n",
      "False\n"
     ]
    }
   ],
   "source": [
    "def sharing_2():\n",
    "    tf.reset_default_graph()\n",
    "    with tf.variable_scope(\"first\"):\n",
    "        x = tf.Variable(10, name=\"x\")\n",
    "        x2 = tf.get_variable(\"x\", [])\n",
    "    \n",
    "    with tf.variable_scope(\"first\", reuse=tf.AUTO_REUSE):\n",
    "        with tf.name_scope(\"first/\"): # note the trailing slash\n",
    "            x3 = tf.Variable(10, name=\"x\")\n",
    "            x4 = tf.get_variable(\"x\", [])\n",
    "    print(x.name, x2.name, x3.name, x4.name)\n",
    "    print(x2 == x4)\n",
    "    print(x == x4)\n",
    "\n",
    "sharing_2()"
   ]
  },
  {
   "cell_type": "markdown",
   "metadata": {},
   "source": [
    "This example is surprising, isn't it? When you call the `get_variable` the first time, it creates another variable, called \"x_1\" to prevent a name clashing with the same variable created before. However, you can access this variable simply by using the name you chose, that is, \"x\". It's magic!"
   ]
  },
  {
   "cell_type": "markdown",
   "metadata": {},
   "source": [
    "<h2 style=\"color:red\">Thus: to create variables use the `get_variable` function. Stop using the `Variable` constructor!</h2>"
   ]
  },
  {
   "cell_type": "markdown",
   "metadata": {},
   "source": [
    "## Fact 3: there are many different ways of sharing a variable. Let's see them"
   ]
  },
  {
   "cell_type": "markdown",
   "metadata": {},
   "source": [
    "### First method: this is the most flexible way of sharing. You can both reuse existing variables and create new variables"
   ]
  },
  {
   "cell_type": "code",
   "execution_count": 15,
   "metadata": {},
   "outputs": [
    {
     "name": "stdout",
     "output_type": "stream",
     "text": [
      "first/x:0 first/x:0 first/x3:0 True\n"
     ]
    }
   ],
   "source": [
    "def sharing_method1():\n",
    "    tf.reset_default_graph()\n",
    "    with tf.variable_scope(\"first\"):\n",
    "        x = tf.get_variable(\"x\", [])\n",
    "    \n",
    "    with tf.variable_scope(\"first\", reuse=tf.AUTO_REUSE):\n",
    "        # You can reuse existing variables\n",
    "        x2 = tf.get_variable(\"x\", [])\n",
    "        \n",
    "        # And create new variables\n",
    "        x3 = tf.get_variable(\"x3\", [])\n",
    "    \n",
    "    print(x.name, x2.name, x3.name, x == x2)\n",
    "\n",
    "sharing_method1()"
   ]
  },
  {
   "cell_type": "markdown",
   "metadata": {},
   "source": [
    "### Second method: this is somehow more limited. You can only reuse existing variables: you cannot create new variables"
   ]
  },
  {
   "cell_type": "code",
   "execution_count": 18,
   "metadata": {},
   "outputs": [
    {
     "name": "stdout",
     "output_type": "stream",
     "text": [
      "first/x:0 first/x:0 True\n"
     ]
    }
   ],
   "source": [
    "def sharing_method2():\n",
    "    tf.reset_default_graph()\n",
    "    with tf.variable_scope(\"first\"):\n",
    "        x = tf.get_variable(\"x\", [])\n",
    "    \n",
    "    with tf.variable_scope(\"first\", reuse=True):\n",
    "        # You can only reuse existing variables\n",
    "        x2 = tf.get_variable(\"x\", [])\n",
    "    \n",
    "    print(x.name, x2.name, x == x2)\n",
    "\n",
    "sharing_method2()"
   ]
  },
  {
   "cell_type": "markdown",
   "metadata": {},
   "source": [
    "### Third method: somehow between the two. You can decide when to start reusing the existing variables. From there you won't be able to create new variables."
   ]
  },
  {
   "cell_type": "code",
   "execution_count": 20,
   "metadata": {},
   "outputs": [
    {
     "name": "stdout",
     "output_type": "stream",
     "text": [
      "first/x:0 first/x:0 first/x3:0 True\n"
     ]
    }
   ],
   "source": [
    "def sharing_method3():\n",
    "    tf.reset_default_graph()\n",
    "    with tf.variable_scope(\"first\"):\n",
    "        x = tf.get_variable(\"x\", [])\n",
    "    \n",
    "    with tf.variable_scope(\"first\") as scope:\n",
    "        # You can create new variables before\n",
    "        x3 = tf.get_variable(\"x3\", [])\n",
    "        \n",
    "        # And decide when to start reusing the existing variables\n",
    "        scope.reuse_variables()\n",
    "        x2 = tf.get_variable(\"x\", [])\n",
    "    \n",
    "    print(x.name, x2.name, x3.name, x == x2)\n",
    "\n",
    "sharing_method3()"
   ]
  },
  {
   "cell_type": "markdown",
   "metadata": {},
   "source": [
    "## What's the best sharing method?\n",
    "\n",
    "Whenever it is possible, I prefer the first method, that is, using the `reuse=True` argument. This helps detecting bugs and makes the code a lot easier to read. Why?\n",
    "\n",
    "- With `AUTO_REUSE`, if you wrongly spell the name of an existing variable, a new variable will be created. Detecting a bug will be thus a lot harder.\n",
    "- If you decide to go for the `reuse=True` argument, you will be able to detect the typo immediatly, simply because you cannot create new variables in a scope with reuse set to True\n",
    "- The `reuse_variables` solution may be a good compromise, but I find it confusing: you have to search in your code when the reuse starts.\n",
    "\n",
    "Obviously, if you really want to both create new variables and reuse some existing variables, then this approach won't work. In this case, I find the `AUTO_REUSE` to be a better option."
   ]
  }
 ],
 "metadata": {
  "kernelspec": {
   "display_name": "Python [conda env:kaggle]",
   "language": "python",
   "name": "conda-env-kaggle-py"
  },
  "language_info": {
   "codemirror_mode": {
    "name": "ipython",
    "version": 3
   },
   "file_extension": ".py",
   "mimetype": "text/x-python",
   "name": "python",
   "nbconvert_exporter": "python",
   "pygments_lexer": "ipython3",
   "version": "3.6.5"
  }
 },
 "nbformat": 4,
 "nbformat_minor": 2
}
