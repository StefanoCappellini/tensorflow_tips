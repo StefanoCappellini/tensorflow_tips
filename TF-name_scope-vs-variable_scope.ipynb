{
 "cells": [
  {
   "cell_type": "code",
   "execution_count": 1,
   "metadata": {},
   "outputs": [],
   "source": [
    "import tensorflow as tf"
   ]
  },
  {
   "cell_type": "markdown",
   "metadata": {},
   "source": [
    "# What are the differences between TensorFlow `variable_scope` and `name_scope`?\n",
    "\n",
    "TensorFlow scopes are a fundamental building block that helps you organize your code in a cleaner, clever and more understandable way. They also allow you to share existing variables, something really useful in some projects and architectures.\n",
    "\n",
    "There are two types of scope you can choose from: `name_scope` and `variable_scope`. But what are the differences between the two? \n",
    "Let's see.\n",
    "\n",
    "**Note**: This Notebook assumes some previous knowledge of TensorFlow and scopes. You can read about them on the <a href=\"https://www.tensorflow.org/api_docs/python/tf\" target=\"_blank\">official doc</a>.\n",
    "\n",
    "**Note 2**: This Notebook is associated with this post: <a href=\"http://stefanocappellini.com/tf-name_scope-vs-variable_scope/\" target=\"_blank\">http://stefanocappellini.com/tf-name_scope-vs-variable_scope/</a>\n",
    "\n",
    "© Stefano Cappellini"
   ]
  },
  {
   "cell_type": "markdown",
   "metadata": {},
   "source": [
    "## `name_scope`"
   ]
  },
  {
   "cell_type": "markdown",
   "metadata": {},
   "source": [
    "### Fact 1: It is used by all the operations and the variables created using the `Variable` constructor. It does not affect, however, the variables created using the `get_variable` function"
   ]
  },
  {
   "cell_type": "code",
   "execution_count": 2,
   "metadata": {},
   "outputs": [
    {
     "name": "stdout",
     "output_type": "stream",
     "text": [
      "first/second/constant:0\n",
      "first/second/Variable:0\n",
      "first/second/multiply:0\n",
      "get_variable:0\n"
     ]
    }
   ],
   "source": [
    "def try_name_scope_one():\n",
    "    tf.reset_default_graph()\n",
    "    with tf.name_scope(\"first\"):\n",
    "        with tf.name_scope(\"second\"):\n",
    "            print(tf.constant(2, name=\"constant\").name)\n",
    "            print(tf.Variable(2, name=\"Variable\").name)\n",
    "            print(tf.multiply(tf.constant(2), tf.constant(3), name=\"multiply\").name)\n",
    "            print(tf.get_variable(\"get_variable\", [1]).name)\n",
    "\n",
    "try_name_scope_one()"
   ]
  },
  {
   "cell_type": "markdown",
   "metadata": {},
   "source": [
    "### Fact 2: It is not built with reuse in mind (normally, you want to share only variables). So, by default, if you reopen a previously closed name scope a brand new, unique, name scope will be created"
   ]
  },
  {
   "cell_type": "code",
   "execution_count": 3,
   "metadata": {},
   "outputs": [
    {
     "name": "stdout",
     "output_type": "stream",
     "text": [
      "first_1/constant:0\n",
      "first_1/Variable:0\n",
      "first_1/multiply:0\n"
     ]
    }
   ],
   "source": [
    "def try_name_scope_two():\n",
    "    tf.reset_default_graph()\n",
    "    with tf.name_scope(\"first\"):\n",
    "        pass\n",
    "     \n",
    "    with tf.name_scope(\"first\"):\n",
    "        print(tf.constant(2, name=\"constant\").name)\n",
    "        print(tf.Variable(2, name=\"Variable\").name)\n",
    "        print(tf.multiply(tf.constant(2), tf.constant(3), name=\"multiply\").name)\n",
    "\n",
    "try_name_scope_two()"
   ]
  },
  {
   "cell_type": "markdown",
   "metadata": {},
   "source": [
    "### Fact 3: This is the default behaviour. You can change it.\n",
    "\n",
    "If the name argument of the `name_scope` function is:\n",
    "\n",
    "- A string not ending with \"/\", it will behave as expected. In particular:\n",
    "\t- The new name will be added as a suffix to the `name_scope` you are actually in\n",
    "\t- If the new scope isn't unique, a suffix will be added to make it unique (as seen in fact 2)\n",
    "- A string ending with \"/\", TensorFlow will treat it like a complete name scope. It will not add any prefix and it won't try to make it unique. You are in control now. \n",
    "- An empty string or None, the `name_scope` will be reset to the top level (empty) name scope."
   ]
  },
  {
   "cell_type": "code",
   "execution_count": 4,
   "metadata": {},
   "outputs": [
    {
     "name": "stdout",
     "output_type": "stream",
     "text": [
      "first/constant:0\n",
      "first/Variable:0\n",
      "first/multiply:0\n"
     ]
    }
   ],
   "source": [
    "def try_name_scope_three():\n",
    "    tf.reset_default_graph()\n",
    "    with tf.name_scope(\"first\"):\n",
    "        pass\n",
    "    with tf.name_scope(\"first/\"): #note the trailing slash\n",
    "        print(tf.constant(2, name=\"constant\").name)\n",
    "        print(tf.Variable(2, name=\"Variable\").name)\n",
    "        print(tf.multiply(tf.constant(2), tf.constant(3), name=\"multiply\").name)\n",
    "        \n",
    "try_name_scope_three()"
   ]
  },
  {
   "cell_type": "markdown",
   "metadata": {},
   "source": [
    "## `variable_scope`"
   ]
  },
  {
   "cell_type": "markdown",
   "metadata": {},
   "source": [
    "### Fact 1: it is used by all the variables created using the `get_variable` function"
   ]
  },
  {
   "cell_type": "code",
   "execution_count": 5,
   "metadata": {},
   "outputs": [
    {
     "name": "stdout",
     "output_type": "stream",
     "text": [
      "first/second/get_variable:0\n"
     ]
    }
   ],
   "source": [
    "def try_variable_scope_one():\n",
    "    tf.reset_default_graph()\n",
    "    with tf.variable_scope(\"first\"):\n",
    "        with tf.variable_scope(\"second\"):\n",
    "            print(tf.get_variable(\"get_variable\", [1]).name)\n",
    "\n",
    "try_variable_scope_one()"
   ]
  },
  {
   "cell_type": "markdown",
   "metadata": {},
   "source": [
    "### Fact 2: it is built with reuse in mind. So you can reopen a previously closed scope without any problem"
   ]
  },
  {
   "cell_type": "code",
   "execution_count": 6,
   "metadata": {},
   "outputs": [
    {
     "name": "stdout",
     "output_type": "stream",
     "text": [
      "first/get_variable:0\n"
     ]
    }
   ],
   "source": [
    "def try_variable_scope_two():\n",
    "    tf.reset_default_graph()\n",
    "    with tf.variable_scope(\"first\"):\n",
    "        pass\n",
    "    with tf.variable_scope(\"first\"):\n",
    "        print(tf.get_variable(\"get_variable\", [1]).name)\n",
    "\n",
    "try_variable_scope_two()"
   ]
  },
  {
   "cell_type": "markdown",
   "metadata": {},
   "source": [
    "### Fact 3: The `variable_scope` allows the variables sharing. How? Take a look at <a href=\"https://github.com/StefanoCappellini/tensorflow_tips/blob/master/TF-variable-sharing.ipynb\" target=\"_blank\">this other notebook</a>."
   ]
  },
  {
   "cell_type": "markdown",
   "metadata": {},
   "source": [
    "## How do they interact?<a href=\"\" id=\"interaction\"></a>"
   ]
  },
  {
   "cell_type": "markdown",
   "metadata": {},
   "source": [
    "### Fact 1: By default, when you open a `variable_scope` a `name_scope` with the same name will be created"
   ]
  },
  {
   "cell_type": "code",
   "execution_count": 7,
   "metadata": {},
   "outputs": [
    {
     "name": "stdout",
     "output_type": "stream",
     "text": [
      "first/constant:0\n",
      "first/Variable:0\n",
      "first/multiply:0\n",
      "first/get_variable:0\n"
     ]
    }
   ],
   "source": [
    "def try_together_one():\n",
    "    tf.reset_default_graph()\n",
    "    with tf.variable_scope(\"first\"):\n",
    "        print(tf.constant(2, name=\"constant\").name)\n",
    "        print(tf.Variable(2, name=\"Variable\").name)\n",
    "        print(tf.multiply(tf.constant(2), tf.constant(3), name=\"multiply\").name)\n",
    "        print(tf.get_variable(\"get_variable\", [1]).name)\n",
    "\n",
    "try_together_one()"
   ]
  },
  {
   "cell_type": "markdown",
   "metadata": {},
   "source": [
    "### Fact 2: so, if you reopen a previously closed `variable_scope`, another `name_scope`with the same name will be created. As stated in *name scope fact 2*, a suffix will be added to this name scope to make it unique."
   ]
  },
  {
   "cell_type": "code",
   "execution_count": 8,
   "metadata": {},
   "outputs": [
    {
     "name": "stdout",
     "output_type": "stream",
     "text": [
      "first_1/constant:0\n",
      "first_1/Variable:0\n",
      "first_1/multiply:0\n",
      "first/get_variable:0\n"
     ]
    }
   ],
   "source": [
    "def try_together_two():\n",
    "    tf.reset_default_graph()\n",
    "    with tf.variable_scope(\"first\"):\n",
    "        pass\n",
    "    with tf.variable_scope(\"first\"):\n",
    "        print(tf.constant(2, name=\"constant\").name)\n",
    "        print(tf.Variable(2, name=\"Variable\").name)\n",
    "        print(tf.multiply(tf.constant(2), tf.constant(3), name=\"multiply\").name)\n",
    "        print(tf.get_variable(\"get_variable\", [1]).name)\n",
    "\n",
    "try_together_two()"
   ]
  },
  {
   "cell_type": "markdown",
   "metadata": {},
   "source": [
    "### Fact 3: you can disable the automatic creation of a `name_scope`"
   ]
  },
  {
   "cell_type": "code",
   "execution_count": 9,
   "metadata": {},
   "outputs": [
    {
     "name": "stdout",
     "output_type": "stream",
     "text": [
      "constant:0\n",
      "Variable:0\n",
      "multiply:0\n",
      "first/get_variable:0\n"
     ]
    }
   ],
   "source": [
    "def try_together_three():\n",
    "    tf.reset_default_graph()\n",
    "    with tf.variable_scope(\"first\", auxiliary_name_scope = False):\n",
    "        print(tf.constant(2, name=\"constant\").name)\n",
    "        print(tf.Variable(2, name=\"Variable\").name)\n",
    "        print(tf.multiply(tf.constant(2), tf.constant(3), name=\"multiply\").name)\n",
    "        print(tf.get_variable(\"get_variable\", [1]).name)\n",
    "\n",
    "try_together_three()"
   ]
  },
  {
   "cell_type": "markdown",
   "metadata": {},
   "source": [
    "### Fact 4: once you know how the `name_scope` works, you can override the default behaviour the way you prefer"
   ]
  },
  {
   "cell_type": "code",
   "execution_count": 10,
   "metadata": {
    "scrolled": true
   },
   "outputs": [
    {
     "name": "stdout",
     "output_type": "stream",
     "text": [
      "another/constant:0\n",
      "another/Variable:0\n",
      "another/multiply:0\n",
      "first/get_variable:0\n"
     ]
    }
   ],
   "source": [
    "def try_together_four():\n",
    "    tf.reset_default_graph()\n",
    "    with tf.variable_scope(\"first\"):\n",
    "        with tf.name_scope(\"another/\"): #note the trailing slash\n",
    "            print(tf.constant(2, name=\"constant\").name)\n",
    "            print(tf.Variable(2, name=\"Variable\").name)\n",
    "            print(tf.multiply(tf.constant(2), tf.constant(3), name=\"multiply\").name)\n",
    "            print(tf.get_variable(\"get_variable\", [1]).name)\n",
    "\n",
    "try_together_four()"
   ]
  },
  {
   "cell_type": "markdown",
   "metadata": {},
   "source": [
    "### Fact 5: with that in mind, you can now reopen a previously closed `variable_scope` and obtain the same `name_scope` as before"
   ]
  },
  {
   "cell_type": "code",
   "execution_count": 11,
   "metadata": {},
   "outputs": [
    {
     "name": "stdout",
     "output_type": "stream",
     "text": [
      "first/constant:0\n",
      "first/Variable:0\n",
      "first/multiply:0\n",
      "first/get_variable:0\n"
     ]
    }
   ],
   "source": [
    "def try_together_five():\n",
    "    tf.reset_default_graph()\n",
    "    with tf.variable_scope(\"first\") as scope:\n",
    "        pass\n",
    "    with tf.variable_scope(scope, auxiliary_name_scope = False):\n",
    "        with tf.name_scope(scope.original_name_scope):\n",
    "            print(tf.constant(2, name=\"constant\").name)\n",
    "            print(tf.Variable(2, name=\"Variable\").name)\n",
    "            print(tf.multiply(tf.constant(2), tf.constant(3), name=\"multiply\").name)\n",
    "            print(tf.get_variable(\"get_variable\", [1]).name)\n",
    "\n",
    "try_together_five()"
   ]
  },
  {
   "cell_type": "markdown",
   "metadata": {},
   "source": [
    "An alternative way is the following:"
   ]
  },
  {
   "cell_type": "code",
   "execution_count": 12,
   "metadata": {},
   "outputs": [
    {
     "name": "stdout",
     "output_type": "stream",
     "text": [
      "first/constant:0\n",
      "first/Variable:0\n",
      "first/multiply:0\n",
      "first/get_variable:0\n"
     ]
    }
   ],
   "source": [
    "def try_together_six():\n",
    "    tf.reset_default_graph()\n",
    "    with tf.variable_scope(\"first\"):\n",
    "        pass\n",
    "    with tf.variable_scope(\"first\", auxiliary_name_scope = False):\n",
    "        with tf.name_scope(\"first/\"):\n",
    "            print(tf.constant(2, name=\"constant\").name)\n",
    "            print(tf.Variable(2, name=\"Variable\").name)\n",
    "            print(tf.multiply(tf.constant(2), tf.constant(3), name=\"multiply\").name)\n",
    "            print(tf.get_variable(\"get_variable\", [1]).name)\n",
    "\n",
    "try_together_six()"
   ]
  }
 ],
 "metadata": {
  "kernelspec": {
   "display_name": "Python [conda env:kaggle]",
   "language": "python",
   "name": "conda-env-kaggle-py"
  },
  "language_info": {
   "codemirror_mode": {
    "name": "ipython",
    "version": 3
   },
   "file_extension": ".py",
   "mimetype": "text/x-python",
   "name": "python",
   "nbconvert_exporter": "python",
   "pygments_lexer": "ipython3",
   "version": "3.6.5"
  }
 },
 "nbformat": 4,
 "nbformat_minor": 2
}
